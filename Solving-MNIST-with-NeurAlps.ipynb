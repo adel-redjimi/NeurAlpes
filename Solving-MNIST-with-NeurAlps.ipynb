{
 "cells": [
  {
   "cell_type": "code",
   "execution_count": 1,
   "metadata": {},
   "outputs": [],
   "source": [
    "import numpy as np\n",
    "import matplotlib.pyplot as plt\n",
    "\n",
    "from neuralps.diffops import Linear, ReLU, DropOut, Softmax, FullForward\n",
    "from neuralps.loss import CategoricalCrossEntropy\n",
    "from neuralps.metrics import multi_class_accuracy\n",
    "from neuralps.model import Model"
   ]
  },
  {
   "cell_type": "markdown",
   "metadata": {},
   "source": [
    "# Loading and Preparing the MNIST Dataset"
   ]
  },
  {
   "cell_type": "code",
   "execution_count": 2,
   "metadata": {},
   "outputs": [],
   "source": [
    "mnist = np.load('mnist.npz')\n",
    "\n",
    "vectors_train = mnist['train'].T\n",
    "train_size = vectors_train.shape[0]\n",
    "\n",
    "vectors_test = mnist['test'].T\n",
    "test_size = vectors_test.shape[0]\n",
    "\n",
    "labels_train = mnist['train_labels'].flatten().astype(int)\n",
    "labels_test = mnist['test_labels'].flatten().astype(int)\n",
    "\n",
    "n_classes = 10\n",
    "n_features = vectors_train.shape[1]"
   ]
  },
  {
   "cell_type": "code",
   "execution_count": 3,
   "metadata": {},
   "outputs": [
    {
     "data": {
      "image/png": "[encoded data removed]",
      "text/plain": [
       "<Figure size 432x288 with 1 Axes>"
      ]
     },
     "metadata": {
      "needs_background": "light"
     },
     "output_type": "display_data"
    }
   ],
   "source": [
    "images_train = vectors_train.reshape(-1, 28, 28)\n",
    "\n",
    "sample_image = images_train[np.random.randint(0, train_size)]\n",
    "plt.imshow(sample_image, cmap='gray');"
   ]
  },
  {
   "cell_type": "code",
   "execution_count": 4,
   "metadata": {},
   "outputs": [
    {
     "data": {
      "text/plain": [
       "(0, 255)"
      ]
     },
     "execution_count": 4,
     "metadata": {},
     "output_type": "execute_result"
    }
   ],
   "source": [
    "vectors_train.min(), vectors_train.max()"
   ]
  },
  {
   "cell_type": "code",
   "execution_count": 5,
   "metadata": {},
   "outputs": [],
   "source": [
    "X_train = vectors_train / 255.\n",
    "X_test = vectors_test / 255."
   ]
  },
  {
   "cell_type": "code",
   "execution_count": 6,
   "metadata": {},
   "outputs": [],
   "source": [
    "y_train = np.zeros((train_size, n_classes))\n",
    "y_test = np.zeros((test_size, n_classes))\n",
    "\n",
    "y_train[np.arange(train_size), labels_train] = 1\n",
    "y_test[np.arange(test_size), labels_test] = 1"
   ]
  },
  {
   "cell_type": "markdown",
   "metadata": {},
   "source": [
    "# Building a Multi-Layer Perceptron Model"
   ]
  },
  {
   "cell_type": "code",
   "execution_count": null,
   "metadata": {},
   "outputs": [],
   "source": [
    "np.random.seed(0)\n",
    "\n",
    "softmax_regression = Model(\n",
    "    Linear(n_features, n_classes),\n",
    "    Softmax()\n",
    ")\n",
    "\n",
    "softmax_regression.train(\n",
    "    X_train, y_train,\n",
    "    loss_function=CategoricalCrossEntropy,\n",
    "    batch_size=50,\n",
    "    epochs=10,\n",
    "    algorithm='rmsprop',\n",
    "    learning_rate=.001,\n",
    "    metric=multi_class_accuracy,\n",
    "    verbose=True,\n",
    "    X_val=X_test,\n",
    "    y_val=y_test\n",
    ")"
   ]
  },
  {
   "cell_type": "code",
   "execution_count": null,
   "metadata": {},
   "outputs": [],
   "source": [
    "np.random.seed(0)\n",
    "\n",
    "n_hidden_units = 512\n",
    "keep_prob = .25\n",
    "\n",
    "mlp = Model(\n",
    "    Linear(n_features, n_hidden_units),\n",
    "    ReLU(),\n",
    "    DropOut(keep_prob),\n",
    "    Linear(n_hidden_units, n_classes),\n",
    "    Softmax()\n",
    ")\n",
    "\n",
    "mlp.train(\n",
    "    X_train, y_train,\n",
    "    loss_function=CategoricalCrossEntropy,\n",
    "    batch_size=50,\n",
    "    epochs=10,\n",
    "    algorithm='rmsprop',\n",
    "    learning_rate=.001,\n",
    "    metric=multi_class_accuracy,\n",
    "    verbose=True,\n",
    "    X_val=X_test,\n",
    "    y_val=y_test,\n",
    "    save_best_model='mlp-mnist.npz'\n",
    ")"
   ]
  },
  {
   "cell_type": "code",
   "execution_count": null,
   "metadata": {},
   "outputs": [],
   "source": [
    "loaded_mlp = Model.load('mlp-mnist.npz')\n",
    "\n",
    "y_pred = loaded_mlp.predict(X_test)\n",
    "\n",
    "multi_class_accuracy(y_test, y_pred)"
   ]
  },
  {
   "cell_type": "code",
   "execution_count": null,
   "metadata": {},
   "outputs": [
    {
     "name": "stdout",
     "output_type": "stream",
     "text": [
      "EPOCH 0\n",
      " - train loss: 0.0184     acc: 0.9452\n",
      " - val  loss: 0.0179     acc: 0.9453\n",
      "EPOCH 1\n",
      " - train loss: 0.0127     acc: 0.9626\n",
      " - val  loss: 0.0133     acc: 0.9596\n",
      "EPOCH 2\n",
      " - train loss: 0.0104     acc: 0.9686\n",
      " - val  loss: 0.0117     acc: 0.9643\n",
      "EPOCH 3\n",
      " - train loss: 0.0091     acc: 0.9729\n",
      " - val  loss: 0.0105     acc: 0.9689\n",
      "EPOCH 4\n",
      " - train loss: 0.0082     acc: 0.9759\n",
      " - val  loss: 0.0102     acc: 0.9709\n",
      "EPOCH 5\n",
      " - train loss: 0.0079     acc: 0.9770\n",
      " - val  loss: 0.0104     acc: 0.9719\n",
      "EPOCH 6\n",
      " - train loss: 0.0072     acc: 0.9791\n",
      " - val  loss: 0.0098     acc: 0.9734\n",
      "EPOCH 7\n",
      " - train loss: 0.0065     acc: 0.9811\n",
      " - val  loss: 0.0095     acc: 0.9734\n",
      "EPOCH 8\n",
      " - train loss: 0.0061     acc: 0.9823\n",
      " - val  loss: 0.0093     acc: 0.9739\n"
     ]
    }
   ],
   "source": [
    "np.random.seed(0)\n",
    "\n",
    "n_hidden = 256\n",
    "keep_prob = .5\n",
    "\n",
    "mlp = Model(\n",
    "    Linear(n_features, n_hidden),\n",
    "    ReLU(),\n",
    "    DropOut(keep_prob),\n",
    "    FullForward(n_hidden, n_hidden, activation=ReLU()),\n",
    "    DropOut(keep_prob),\n",
    "    FullForward(2 * n_hidden, n_hidden, activation=ReLU()),\n",
    "    Linear(3 * n_hidden, n_classes),\n",
    "    Softmax()\n",
    ")\n",
    "\n",
    "mlp.train(\n",
    "    X_train, y_train,\n",
    "    loss_function=CategoricalCrossEntropy,\n",
    "    batch_size=50,\n",
    "    epochs=10,\n",
    "    algorithm='rmsprop',\n",
    "    learning_rate=.001,\n",
    "    metric=multi_class_accuracy,\n",
    "    verbose=True,\n",
    "    X_val=X_test,\n",
    "    y_val=y_test#,\n",
    "    #save_best_model='mlp-mnist.npz'\n",
    ")"
   ]
  },
  {
   "cell_type": "code",
   "execution_count": 11,
   "metadata": {},
   "outputs": [],
   "source": [
    "ff = FullForward(10, 5, activation=ReLU())"
   ]
  },
  {
   "cell_type": "code",
   "execution_count": 12,
   "metadata": {},
   "outputs": [],
   "source": [
    "x = np.ones((1, 10))"
   ]
  },
  {
   "cell_type": "code",
   "execution_count": 13,
   "metadata": {},
   "outputs": [
    {
     "data": {
      "text/plain": [
       "array([[1.        , 1.        , 1.        , 1.        , 1.        ,\n",
       "        1.        , 1.        , 1.        , 1.        , 1.        ,\n",
       "        0.15829461, 0.        , 2.04917387, 0.        , 1.32865209]])"
      ]
     },
     "execution_count": 13,
     "metadata": {},
     "output_type": "execute_result"
    }
   ],
   "source": [
    "ff.forward(x)"
   ]
  },
  {
   "cell_type": "code",
   "execution_count": null,
   "metadata": {},
   "outputs": [],
   "source": []
  }
 ],
 "metadata": {
  "kernelspec": {
   "display_name": "Python 3",
   "language": "python",
   "name": "python3"
  },
  "language_info": {
   "codemirror_mode": {
    "name": "ipython",
    "version": 3
   },
   "file_extension": ".py",
   "mimetype": "text/x-python",
   "name": "python",
   "nbconvert_exporter": "python",
   "pygments_lexer": "ipython3",
   "version": "3.6.5"
  }
 },
 "nbformat": 4,
 "nbformat_minor": 2
}
