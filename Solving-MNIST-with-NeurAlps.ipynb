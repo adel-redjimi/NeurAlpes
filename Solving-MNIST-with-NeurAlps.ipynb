{
 "cells": [
  {
   "cell_type": "code",
   "execution_count": 2,
   "metadata": {},
   "outputs": [],
   "source": [
    "import numpy as np\n",
    "import matplotlib.pyplot as plt\n",
    "\n",
    "from neuralps.diffops import Linear, ReLU, DropOut, Softmax\n",
    "from neuralps.loss import CategoricalCrossEntropy\n",
    "from neuralps.metrics import multi_class_accuracy\n",
    "from neuralps.model import Model"
   ]
  },
  {
   "cell_type": "markdown",
   "metadata": {},
   "source": [
    "# Loading and Preparing the MNIST Dataset"
   ]
  },
  {
   "cell_type": "code",
   "execution_count": 3,
   "metadata": {},
   "outputs": [],
   "source": [
    "mnist = np.load('mnist.npz')\n",
    "\n",
    "vectors_train = mnist['train'].T\n",
    "train_size = vectors_train.shape[0]\n",
    "\n",
    "vectors_test = mnist['test'].T\n",
    "test_size = vectors_test.shape[0]\n",
    "\n",
    "labels_train = mnist['train_labels'].flatten().astype(int)\n",
    "labels_test = mnist['test_labels'].flatten().astype(int)\n",
    "\n",
    "n_classes = 10\n",
    "n_features = vectors_train.shape[1]"
   ]
  },
  {
   "cell_type": "code",
   "execution_count": 4,
   "metadata": {},
   "outputs": [
    {
     "data": {
      "image/png": "[encoded data removed]",
      "text/plain": [
       "<Figure size 432x288 with 1 Axes>"
      ]
     },
     "metadata": {
      "needs_background": "light"
     },
     "output_type": "display_data"
    }
   ],
   "source": [
    "images_train = vectors_train.reshape(-1, 28, 28)\n",
    "\n",
    "sample_image = images_train[np.random.randint(0, train_size)]\n",
    "plt.imshow(sample_image, cmap='gray');"
   ]
  },
  {
   "cell_type": "code",
   "execution_count": 5,
   "metadata": {},
   "outputs": [
    {
     "data": {
      "text/plain": [
       "(0, 255)"
      ]
     },
     "execution_count": 5,
     "metadata": {},
     "output_type": "execute_result"
    }
   ],
   "source": [
    "vectors_train.min(), vectors_train.max()"
   ]
  },
  {
   "cell_type": "code",
   "execution_count": 6,
   "metadata": {},
   "outputs": [],
   "source": [
    "X_train = vectors_train / 255.\n",
    "X_test = vectors_test / 255."
   ]
  },
  {
   "cell_type": "code",
   "execution_count": 7,
   "metadata": {},
   "outputs": [],
   "source": [
    "y_train = np.zeros((train_size, n_classes))\n",
    "y_test = np.zeros((test_size, n_classes))\n",
    "\n",
    "y_train[np.arange(train_size), labels_train] = 1\n",
    "y_test[np.arange(test_size), labels_test] = 1"
   ]
  },
  {
   "cell_type": "markdown",
   "metadata": {},
   "source": [
    "# Building a Multi-Layer Perceptron Model"
   ]
  },
  {
   "cell_type": "code",
   "execution_count": 9,
   "metadata": {},
   "outputs": [
    {
     "name": "stdout",
     "output_type": "stream",
     "text": [
      "EPOCH 0\n",
      " - train loss: 0.0316     acc: 0.9122\n",
      " - val  loss: 0.0307     acc: 0.9164\n",
      "EPOCH 1\n",
      " - train loss: 0.0288     acc: 0.9201\n",
      " - val  loss: 0.0284     acc: 0.9206\n",
      "EPOCH 2\n",
      " - train loss: 0.0274     acc: 0.9230\n",
      " - val  loss: 0.0275     acc: 0.9225\n",
      "EPOCH 3\n",
      " - train loss: 0.0267     acc: 0.9257\n",
      " - val  loss: 0.0269     acc: 0.9257\n",
      "EPOCH 4\n",
      " - train loss: 0.0263     acc: 0.9269\n",
      " - val  loss: 0.0269     acc: 0.9257\n",
      "EPOCH 5\n",
      " - train loss: 0.0257     acc: 0.9286\n",
      " - val  loss: 0.0266     acc: 0.9252\n",
      "EPOCH 6\n",
      " - train loss: 0.0255     acc: 0.9282\n",
      " - val  loss: 0.0266     acc: 0.9252\n",
      "EPOCH 7\n",
      " - train loss: 0.0252     acc: 0.9307\n",
      " - val  loss: 0.0265     acc: 0.9248\n",
      "EPOCH 8\n",
      " - train loss: 0.0249     acc: 0.9312\n",
      " - val  loss: 0.0263     acc: 0.9277\n",
      "EPOCH 9\n",
      " - train loss: 0.0249     acc: 0.9312\n",
      " - val  loss: 0.0263     acc: 0.9261\n"
     ]
    }
   ],
   "source": [
    "np.random.seed(0)\n",
    "\n",
    "softmax_regression = Model(\n",
    "    Linear(n_features, n_classes),\n",
    "    Softmax()\n",
    ")\n",
    "\n",
    "softmax_regression.train(\n",
    "    X_train, y_train,\n",
    "    loss_function=CategoricalCrossEntropy,\n",
    "    batch_size=50,\n",
    "    epochs=10,\n",
    "    algorithm='rmsprop',\n",
    "    learning_rate=.001,\n",
    "    metric=multi_class_accuracy,\n",
    "    verbose=True,\n",
    "    X_val=X_test,\n",
    "    y_val=y_test\n",
    ")"
   ]
  },
  {
   "cell_type": "code",
   "execution_count": 10,
   "metadata": {},
   "outputs": [
    {
     "name": "stdout",
     "output_type": "stream",
     "text": [
      "EPOCH 0\n",
      " - train loss: 0.0152     acc: 0.9554\n",
      " - val  loss: 0.0155     acc: 0.9546\n",
      "EPOCH 1\n",
      " - train loss: 0.0108     acc: 0.9678\n",
      " - val  loss: 0.0117     acc: 0.9638\n",
      "EPOCH 2\n",
      " - train loss: 0.0092     acc: 0.9724\n",
      " - val  loss: 0.0101     acc: 0.9694\n",
      "EPOCH 3\n",
      " - train loss: 0.0078     acc: 0.9765\n",
      " - val  loss: 0.0096     acc: 0.9717\n",
      "EPOCH 4\n",
      " - train loss: 0.0070     acc: 0.9799\n",
      " - val  loss: 0.0092     acc: 0.9732\n",
      "EPOCH 5\n",
      " - train loss: 0.0061     acc: 0.9817\n",
      " - val  loss: 0.0087     acc: 0.9771\n",
      "EPOCH 6\n",
      " - train loss: 0.0054     acc: 0.9843\n",
      " - val  loss: 0.0081     acc: 0.9766\n",
      "EPOCH 7\n",
      " - train loss: 0.0052     acc: 0.9845\n",
      " - val  loss: 0.0081     acc: 0.9777\n",
      "EPOCH 8\n",
      " - train loss: 0.0047     acc: 0.9863\n",
      " - val  loss: 0.0075     acc: 0.9791\n",
      "EPOCH 9\n",
      " - train loss: 0.0045     acc: 0.9866\n",
      " - val  loss: 0.0080     acc: 0.9782\n"
     ]
    }
   ],
   "source": [
    "np.random.seed(0)\n",
    "\n",
    "n_hidden_units = 512\n",
    "keep_prob = .25\n",
    "\n",
    "mlp = Model(\n",
    "    Linear(n_features, n_hidden_units),\n",
    "    ReLU(),\n",
    "    DropOut(keep_prob),\n",
    "    Linear(n_hidden_units, n_classes),\n",
    "    Softmax()\n",
    ")\n",
    "\n",
    "mlp.train(\n",
    "    X_train, y_train,\n",
    "    loss_function=CategoricalCrossEntropy,\n",
    "    batch_size=50,\n",
    "    epochs=10,\n",
    "    algorithm='rmsprop',\n",
    "    learning_rate=.001,\n",
    "    metric=multi_class_accuracy,\n",
    "    verbose=True,\n",
    "    X_val=X_test,\n",
    "    y_val=y_test,\n",
    "    save_best_model='mlp-mnist.npz'\n",
    ")"
   ]
  },
  {
   "cell_type": "code",
   "execution_count": 12,
   "metadata": {},
   "outputs": [
    {
     "data": {
      "text/plain": [
       "0.9791"
      ]
     },
     "execution_count": 12,
     "metadata": {},
     "output_type": "execute_result"
    }
   ],
   "source": [
    "loaded_mlp = Model.load('mlp-mnist.npz')\n",
    "\n",
    "y_pred = loaded_mlp.predict(X_test)\n",
    "\n",
    "multi_class_accuracy(y_test, y_pred)"
   ]
  }
 ],
 "metadata": {
  "kernelspec": {
   "display_name": "Python 3",
   "language": "python",
   "name": "python3"
  },
  "language_info": {
   "codemirror_mode": {
    "name": "ipython",
    "version": 3
   },
   "file_extension": ".py",
   "mimetype": "text/x-python",
   "name": "python",
   "nbconvert_exporter": "python",
   "pygments_lexer": "ipython3",
   "version": "3.6.5"
  }
 },
 "nbformat": 4,
 "nbformat_minor": 2
}
